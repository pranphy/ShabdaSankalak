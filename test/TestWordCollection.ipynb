{
 "cells": [
  {
   "cell_type": "code",
   "execution_count": 1,
   "metadata": {},
   "outputs": [],
   "source": [
    "from shabdasankalak.assembletext import NewsCrawler\n",
    "from shabdasankalak.spiders import Kantipur"
   ]
  },
  {
   "cell_type": "code",
   "execution_count": 2,
   "metadata": {},
   "outputs": [],
   "source": [
    "start_date = '2019/01/01'\n",
    "end_date = '2019/01/01'\n",
    "opath = '../scrapped/kantipur'"
   ]
  },
  {
   "cell_type": "code",
   "execution_count": 3,
   "metadata": {},
   "outputs": [
    {
     "name": "stdout",
     "output_type": "stream",
     "text": [
      "<- [2019/01/01] :: https://ekantipur.com/national/2019/01/01/154633705047056792.html ... \n",
      "<- [2019/01/01] :: https://ekantipur.com/national/2019/01/01/15463587639559336.html ... \n",
      "<- [2019/01/01] :: https://ekantipur.com/entertainment/2019/01/01/15463098864015822.html ... \n",
      "<- [2019/01/01] :: https://ekantipur.com/business/2019/01/01/154631171912424651.html ... \n",
      "<- [2019/01/01] :: https://ekantipur.com/business/2019/01/01/15463117624169587.html ... \n",
      "<- [2019/01/01] :: https://ekantipur.com/business/2019/01/01/15463118200372779.html ... \n",
      "<- [2019/01/01] :: https://ekantipur.com/business/2019/01/01/154631201680188101.html ... \n",
      "<- [2019/01/01] :: https://ekantipur.com/business/2019/01/01/154631192525765978.html ... \n",
      "<- [2019/01/01] :: https://ekantipur.com/business/2019/01/01/154633906681176325.html ... \n",
      " 300 other lines \n",
      "there wer 0 duplicates \n"
     ]
    }
   ],
   "source": [
    "NC = NewsCrawler(opath)\n",
    "NC.crawl_news(Kantipur,start_date,end_date)\n"
   ]
  }
 ],
 "metadata": {
  "kernelspec": {
   "display_name": "Python 3.7",
   "language": "python",
   "name": "python3"
  },
  "language_info": {
   "codemirror_mode": {
    "name": "ipython",
    "version": 3
   },
   "file_extension": ".py",
   "mimetype": "text/x-python",
   "name": "python",
   "nbconvert_exporter": "python",
   "pygments_lexer": "ipython3",
   "version": "3.7.3"
  }
 },
 "nbformat": 4,
 "nbformat_minor": 2
}
